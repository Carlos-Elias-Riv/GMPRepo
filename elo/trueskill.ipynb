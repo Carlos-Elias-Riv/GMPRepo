{
 "cells": [
  {
   "cell_type": "code",
   "execution_count": 94,
   "metadata": {},
   "outputs": [],
   "source": [
    "from trueskill import rate, Rating, rate_1vs1\n",
    "\n",
    "players = {f'player{i}': Rating() for i in range(1, 64)}\n",
    "\n"
   ]
  },
  {
   "cell_type": "code",
   "execution_count": 95,
   "metadata": {},
   "outputs": [],
   "source": [
    "\n",
    "def updateplayers(ranking):\n",
    "\n",
    "    playerstoupdate = []\n",
    "    for elem in ranking:\n",
    "        playerstoupdate.append(players[f'player{elem}'])\n",
    "    individualplayers = [[player] for player in playerstoupdate]\n",
    "    resp = rate(individualplayers)\n",
    "\n",
    "    for elem, res in zip(ranking, resp):\n",
    "        #print(f'player{elem} = {result[0]}')\n",
    "        players[f'player{elem}'] = res[0]\n",
    "\n"
   ]
  },
  {
   "cell_type": "code",
   "execution_count": 96,
   "metadata": {},
   "outputs": [],
   "source": [
    "nombresarchivos = [\n",
    "    \"AR 2011-2022\",\n",
    "    \"AT 2008-2021\",\n",
    "    \"BE 2008-2022\",\n",
    "    \"BO 2012-2022\",\n",
    "    \"BR 2011-2022\",\n",
    "    \"CAM 2012-2022\",\n",
    "    \"CL 2012-2022\",\n",
    "    \"CN 2011-2022\",\n",
    "    \"CO 2012-2022\",\n",
    "    \"DE 2005-2022\",\n",
    "    \"EC 2012-2022\",\n",
    "    \"ES 2008-2022\",\n",
    "    \"FR 2008-2022\",\n",
    "    \"HU 2010-2022\",\n",
    "    \"ID 2015-2022\",\n",
    "    \"IE 2016-2021\",\n",
    "    \"KSA 2016-2019\",\n",
    "    \"PE 2012-2022\",\n",
    "    \"SK 2013-2022\",\n",
    "    \"VN 2016-2022\",\n",
    "]\n",
    "\n",
    "for nombre in nombresarchivos:\n",
    "    df = pd.read_csv(f'out/{nombre}/master_category_v1.csv')\n",
    "    ranking = df['master_id']\n",
    "    updateplayers(ranking)"
   ]
  },
  {
   "cell_type": "code",
   "execution_count": 97,
   "metadata": {},
   "outputs": [],
   "source": [
    "# lets sort the players by their mu\n",
    "\n",
    "sortedplayers = sorted(players.items(), key=lambda x: x[1].mu, reverse=True)"
   ]
  },
  {
   "cell_type": "code",
   "execution_count": 98,
   "metadata": {},
   "outputs": [],
   "source": [
    "# lets create a dataframe with three columns, player, mu and sigma\n",
    "df = pd.DataFrame()\n",
    "df['player'] = [elem[0] for elem in sortedplayers]\n",
    "df['mu'] = [elem[1].mu for elem in sortedplayers]\n",
    "df['sigma'] = [elem[1].sigma for elem in sortedplayers]"
   ]
  },
  {
   "cell_type": "code",
   "execution_count": 100,
   "metadata": {},
   "outputs": [
    {
     "name": "stdout",
     "output_type": "stream",
     "text": [
      "     player         mu     sigma\n",
      "0   player4  42.030187  0.998132\n",
      "1   player5  38.520285  0.979418\n",
      "2  player12  35.762750  1.253437\n",
      "3  player48  35.744609  1.131621\n",
      "4  player28  35.642467  1.049752\n",
      "5  player10  34.814524  1.095799\n",
      "6  player50  34.498687  1.074506\n",
      "7   player2  34.399635  1.048305\n",
      "8   player1  33.913753  0.969277\n",
      "9  player20  33.588959  0.993823\n"
     ]
    }
   ],
   "source": [
    "print(df.head(10))"
   ]
  },
  {
   "cell_type": "code",
   "execution_count": 101,
   "metadata": {},
   "outputs": [
    {
     "name": "stdout",
     "output_type": "stream",
     "text": [
      "20\n"
     ]
    }
   ],
   "source": [
    "print(len(nombresarchivos))"
   ]
  },
  {
   "cell_type": "code",
   "execution_count": null,
   "metadata": {},
   "outputs": [],
   "source": []
  }
 ],
 "metadata": {
  "language_info": {
   "name": "python"
  }
 },
 "nbformat": 4,
 "nbformat_minor": 2
}
